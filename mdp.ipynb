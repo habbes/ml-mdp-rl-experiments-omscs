{
 "cells": [
  {
   "cell_type": "code",
   "execution_count": 1,
   "metadata": {},
   "outputs": [
    {
     "data": {
      "text/plain": [
       "<module 'lib' from '/Users/habbes/code/class/ml/assignment4/lib.py'>"
      ]
     },
     "execution_count": 1,
     "metadata": {},
     "output_type": "execute_result"
    }
   ],
   "source": [
    "import numpy as np, gym, mdptoolbox as mtools\n",
    "from mdptoolbox.mdp import PolicyIteration, ValueIteration\n",
    "from matplotlib import pyplot as plt\n",
    "import seaborn as sns\n",
    "sns.set()\n",
    "%matplotlib inline\n",
    "import lib\n",
    "from importlib import reload\n",
    "import registry\n",
    "reload(registry)\n",
    "reload(lib)"
   ]
  },
  {
   "cell_type": "code",
   "execution_count": 2,
   "metadata": {},
   "outputs": [],
   "source": [
    "registry.register_envs()"
   ]
  },
  {
   "cell_type": "markdown",
   "metadata": {},
   "source": [
    "## Small grid problem"
   ]
  },
  {
   "cell_type": "code",
   "execution_count": 3,
   "metadata": {},
   "outputs": [],
   "source": [
    "sm_env = gym.make('SmallLakeTough-v0')\n",
    "sm_T, sm_R = lib.get_mdptbx_env_from_gym_env(sm_env)"
   ]
  },
  {
   "cell_type": "code",
   "execution_count": 4,
   "metadata": {},
   "outputs": [
    {
     "data": {
      "text/plain": [
       "array([[ 0.,  0.,  0.,  0.],\n",
       "       [ 0., -1.,  0., -1.],\n",
       "       [ 0.,  0.,  0., -1.],\n",
       "       [-1.,  0.,  0.,  1.]])"
      ]
     },
     "execution_count": 4,
     "metadata": {},
     "output_type": "execute_result"
    }
   ],
   "source": [
    "sm_R.reshape((4, 4))"
   ]
  },
  {
   "cell_type": "markdown",
   "metadata": {},
   "source": [
    "### Value Iteration"
   ]
  },
  {
   "cell_type": "code",
   "execution_count": 5,
   "metadata": {},
   "outputs": [],
   "source": [
    "sm_vi = ValueIteration(sm_T, sm_R, 0.9)"
   ]
  },
  {
   "cell_type": "code",
   "execution_count": 6,
   "metadata": {},
   "outputs": [],
   "source": [
    "sm_vi.run()"
   ]
  },
  {
   "cell_type": "code",
   "execution_count": 7,
   "metadata": {},
   "outputs": [
    {
     "name": "stdout",
     "output_type": "stream",
     "text": [
      "Iterations 72\n",
      "Time 0.0043408870697021484\n",
      "Values\n",
      "[[ 0.45820811  0.26830949  0.16864572  0.12594408]\n",
      " [ 0.61181532 -9.99492471 -2.52035559 -9.99492471]\n",
      " [ 0.97024853  1.65301704  1.42503509 -9.99492471]\n",
      " [-9.99492471  3.1157367   5.61823585  9.99492471]]\n",
      "[[0 3 3 3]\n",
      " [0 0 0 0]\n",
      " [3 1 0 0]\n",
      " [0 2 1 0]]\n"
     ]
    }
   ],
   "source": [
    "print(\"Iterations\", sm_vi.iter)\n",
    "print(\"Time\", sm_vi.time)\n",
    "print(\"Values\")\n",
    "print(np.array(sm_vi.V).reshape((4, 4)))\n",
    "print(np.array(sm_vi.policy).reshape((4, 4)))"
   ]
  },
  {
   "cell_type": "code",
   "execution_count": 8,
   "metadata": {},
   "outputs": [
    {
     "data": {
      "image/png": "[encoded data removed]",
      "text/plain": [
       "<matplotlib.figure.Figure at 0x1a13f3de10>"
      ]
     },
     "metadata": {},
     "output_type": "display_data"
    }
   ],
   "source": [
    "lib.plot_policy(sm_vi.policy, sm_vi.V)"
   ]
  },
  {
   "cell_type": "markdown",
   "metadata": {
    "collapsed": true
   },
   "source": [
    "### Policy iteration"
   ]
  },
  {
   "cell_type": "code",
   "execution_count": 9,
   "metadata": {
    "collapsed": true
   },
   "outputs": [],
   "source": [
    "sm_pi = PolicyIteration(sm_T, sm_R, 0.9, eval_type='iterative')"
   ]
  },
  {
   "cell_type": "code",
   "execution_count": 10,
   "metadata": {
    "collapsed": true
   },
   "outputs": [],
   "source": [
    "sm_pi.run()"
   ]
  },
  {
   "cell_type": "code",
   "execution_count": 11,
   "metadata": {},
   "outputs": [
    {
     "name": "stdout",
     "output_type": "stream",
     "text": [
      "Iterations 3\n",
      "Time 0.005913734436035156\n",
      "Values\n",
      "[[ 0.46088634  0.27080835  0.17101764  0.12825028]\n",
      " [ 0.6145335  -9.99990739 -2.5204499  -9.99990739]\n",
      " [ 0.97304364  1.65592039  1.42739075 -9.99990739]\n",
      " [-9.99990739  3.11931927  5.62251419  9.99990739]]\n",
      "[[0 3 3 3]\n",
      " [0 0 0 0]\n",
      " [3 1 0 0]\n",
      " [0 2 1 0]]\n"
     ]
    }
   ],
   "source": [
    "print(\"Iterations\", sm_pi.iter)\n",
    "print(\"Time\", sm_pi.time)\n",
    "print(\"Values\")\n",
    "print(np.array(sm_pi.V).reshape((4, 4)))\n",
    "print(np.array(sm_pi.policy).reshape((4, 4)))"
   ]
  },
  {
   "cell_type": "code",
   "execution_count": 12,
   "metadata": {},
   "outputs": [
    {
     "data": {
      "image/png": "[encoded data removed]",
      "text/plain": [
       "<matplotlib.figure.Figure at 0x1a140cab38>"
      ]
     },
     "metadata": {},
     "output_type": "display_data"
    }
   ],
   "source": [
    "lib.plot_policy(sm_pi.policy, sm_pi.V)"
   ]
  },
  {
   "cell_type": "code",
   "execution_count": 13,
   "metadata": {},
   "outputs": [
    {
     "data": {
      "text/plain": [
       "array([ 5,  7, 11, 12,  6,  3,  2,  1,  0,  4,  8, 10,  9, 13, 14, 15])"
      ]
     },
     "execution_count": 13,
     "metadata": {},
     "output_type": "execute_result"
    }
   ],
   "source": [
    "np.argsort(np.array(sm_pi.V))"
   ]
  },
  {
   "cell_type": "code",
   "execution_count": 14,
   "metadata": {},
   "outputs": [
    {
     "data": {
      "text/plain": [
       "array([ 5,  7, 11, 12,  6,  3,  2,  1,  0,  4,  8, 10,  9, 13, 14, 15])"
      ]
     },
     "execution_count": 14,
     "metadata": {},
     "output_type": "execute_result"
    }
   ],
   "source": [
    "np.argsort(np.array(sm_vi.V))"
   ]
  },
  {
   "cell_type": "markdown",
   "metadata": {},
   "source": [
    "## Large grid MDP"
   ]
  },
  {
   "cell_type": "code",
   "execution_count": 23,
   "metadata": {
    "collapsed": true
   },
   "outputs": [],
   "source": [
    "lg_env = gym.make('LargeLakeTough-v0')\n",
    "lg_T, lg_R = lib.get_mdptbx_env_from_gym_env(lg_env)"
   ]
  },
  {
   "cell_type": "code",
   "execution_count": 24,
   "metadata": {},
   "outputs": [
    {
     "data": {
      "text/plain": [
       "array([[ 0. ,  0. ,  0. ,  0. , -0.3,  0. , -1. ,  0. ],\n",
       "       [ 0. ,  0. ,  0. ,  0. ,  0. ,  0. ,  0. ,  0. ],\n",
       "       [ 0. ,  0. ,  0. , -1. ,  0.3,  0. ,  0. , -0.3],\n",
       "       [ 0.3,  0. ,  0. ,  0. ,  0. , -1. ,  0.3,  0. ],\n",
       "       [-0.3,  0. ,  0. , -1. ,  0. ,  0. ,  0. , -0.3],\n",
       "       [ 0. , -1. , -1. ,  0. ,  0. ,  0. , -1. ,  0. ],\n",
       "       [ 0. , -1. ,  0. ,  0. , -1. ,  0.3, -1. ,  0. ],\n",
       "       [ 0. ,  0. ,  0. , -1. ,  0. ,  0. ,  0. ,  1. ]])"
      ]
     },
     "execution_count": 24,
     "metadata": {},
     "output_type": "execute_result"
    }
   ],
   "source": [
    "lg_R.reshape((8, 8))"
   ]
  },
  {
   "cell_type": "markdown",
   "metadata": {},
   "source": [
    "### Value iteration"
   ]
  },
  {
   "cell_type": "code",
   "execution_count": 40,
   "metadata": {},
   "outputs": [],
   "source": [
    "lg_vi = ValueIteration(lg_T, lg_R, 0.9)"
   ]
  },
  {
   "cell_type": "code",
   "execution_count": 41,
   "metadata": {
    "collapsed": true
   },
   "outputs": [],
   "source": [
    "lg_vi.run()"
   ]
  },
  {
   "cell_type": "code",
   "execution_count": 42,
   "metadata": {},
   "outputs": [
    {
     "name": "stdout",
     "output_type": "stream",
     "text": [
      "Iterations 72\n",
      "Time 0.004327058792114258\n",
      "Values\n",
      "[[ 3.97803952e-01  3.52725192e-01  2.93218318e-01  2.18762423e-01\n",
      "  -2.60046583e-01 -9.65446305e-02 -9.99492471e+00  2.30195082e-01]\n",
      " [ 5.08651151e-01  4.19153129e-01  3.04343582e-01  1.66953502e-01\n",
      "   1.13106431e-04  1.87812749e-01  3.78407321e-01  3.33648000e-01]\n",
      " [ 6.66334044e-01  4.92681831e-01  2.20913608e-01 -9.99492471e+00\n",
      "  -1.76982969e-01  1.75190555e-01  5.80674123e-01  3.85989607e-01]\n",
      " [ 9.01127783e-01  4.37660355e-01 -3.08123250e-01 -4.63607255e+00\n",
      "  -2.47017628e+00 -9.99492471e+00  1.01032421e+00  1.04170765e+00]\n",
      " [ 3.45942617e-02 -3.50043681e-01 -2.46607821e+00 -9.99492471e+00\n",
      "  -1.53014541e+00 -1.11351562e+00  4.94055691e-01  1.28955533e+00]\n",
      " [ 1.86664416e-02 -9.99492471e+00 -9.99492471e+00 -4.33443376e+00\n",
      "  -2.10387635e+00 -1.95652240e+00 -9.99492471e+00  2.64125224e+00]\n",
      " [ 1.08167575e-02 -9.99492471e+00 -4.08667499e+00 -5.06276346e+00\n",
      "  -9.99492471e+00 -3.37496175e+00 -9.99492471e+00  5.16853697e+00]\n",
      " [ 7.59721491e-03 -6.32161263e-01 -1.55330783e+00 -9.99492471e+00\n",
      "  -1.84027933e+00  1.82796709e+00  4.83602237e+00  9.99492471e+00]]\n",
      "[[1 0 0 0 0 0 0 2]\n",
      " [1 0 0 3 1 2 1 1]\n",
      " [1 0 0 0 2 3 1 1]\n",
      " [3 0 0 0 0 0 2 1]\n",
      " [3 3 3 0 2 1 3 1]\n",
      " [0 0 0 2 3 0 0 2]\n",
      " [0 0 1 0 0 1 0 2]\n",
      " [0 1 0 0 2 2 1 0]]\n"
     ]
    }
   ],
   "source": [
    "print(\"Iterations\", lg_vi.iter)\n",
    "print(\"Time\", lg_vi.time)\n",
    "print(\"Values\")\n",
    "print(np.array(lg_vi.V).reshape((8, 8)))\n",
    "print(np.array(lg_vi.policy).reshape((8, 8)))"
   ]
  },
  {
   "cell_type": "code",
   "execution_count": 43,
   "metadata": {},
   "outputs": [
    {
     "data": {
      "image/png": "[encoded data removed]",
      "text/plain": [
       "<matplotlib.figure.Figure at 0x1a16431cf8>"
      ]
     },
     "metadata": {},
     "output_type": "display_data"
    }
   ],
   "source": [
    "lib.plot_policy(lg_vi.policy, lg_vi.V)"
   ]
  },
  {
   "cell_type": "markdown",
   "metadata": {},
   "source": [
    "### Policy iteration"
   ]
  },
  {
   "cell_type": "code",
   "execution_count": 44,
   "metadata": {},
   "outputs": [],
   "source": [
    "lg_pi = PolicyIteration(lg_T, lg_R, 0.9)"
   ]
  },
  {
   "cell_type": "code",
   "execution_count": 45,
   "metadata": {
    "collapsed": true
   },
   "outputs": [],
   "source": [
    "lg_pi.run()"
   ]
  },
  {
   "cell_type": "code",
   "execution_count": 46,
   "metadata": {},
   "outputs": [
    {
     "name": "stdout",
     "output_type": "stream",
     "text": [
      "Iterations 5\n",
      "Time 0.005731105804443359\n",
      "Values\n",
      "[[ 3.97277532e-01  3.52209371e-01  2.92704819e-01  2.18381781e-01\n",
      "  -2.60074507e-01 -9.60037080e-02 -1.00000000e+01  2.32800907e-01]\n",
      " [ 5.08095509e-01  4.18610546e-01  3.03786747e-01  1.66794275e-01\n",
      "   7.57579028e-04  1.89469576e-01  3.80670309e-01  3.36267976e-01]\n",
      " [ 6.65748103e-01  4.92090927e-01  2.20237409e-01 -1.00000000e+01\n",
      "  -1.76448417e-01  1.76750095e-01  5.83065243e-01  3.88793027e-01]\n",
      " [ 9.00520715e-01  4.36964033e-01 -3.09135673e-01 -4.63911105e+00\n",
      "  -2.47180629e+00 -1.00000000e+01  1.01292898e+00  1.04472204e+00]\n",
      " [ 3.38626766e-02 -3.51069988e-01 -2.46810180e+00 -1.00000000e+01\n",
      "  -1.53113520e+00 -1.11390843e+00  4.96063924e-01  1.29277902e+00]\n",
      " [ 1.80725017e-02 -1.00000000e+01 -1.00000000e+01 -4.33734513e+00\n",
      "  -2.10542219e+00 -1.95781642e+00 -1.00000000e+01  2.64508746e+00]\n",
      " [ 1.03145497e-02 -1.00000000e+01 -4.08964982e+00 -5.06624507e+00\n",
      "  -1.00000000e+01 -3.37665352e+00 -1.00000000e+01  5.17299032e+00]\n",
      " [ 7.14084212e-03 -6.33210270e-01 -1.55498817e+00 -1.00000000e+01\n",
      "  -1.84084325e+00  1.82965885e+00  4.83940589e+00  1.00000000e+01]]\n",
      "[[1 0 0 0 0 0 0 2]\n",
      " [1 0 0 3 1 2 1 1]\n",
      " [1 0 0 0 2 3 1 1]\n",
      " [3 0 0 0 0 0 2 1]\n",
      " [3 3 3 0 2 1 3 1]\n",
      " [0 0 0 2 3 0 0 2]\n",
      " [0 0 1 0 0 1 0 2]\n",
      " [0 1 0 0 2 2 1 0]]\n"
     ]
    }
   ],
   "source": [
    "print(\"Iterations\", lg_pi.iter)\n",
    "print(\"Time\", lg_pi.time)\n",
    "print(\"Values\")\n",
    "print(np.array(lg_pi.V).reshape((8, 8)))\n",
    "print(np.array(lg_pi.policy).reshape((8, 8)))"
   ]
  },
  {
   "cell_type": "code",
   "execution_count": 47,
   "metadata": {},
   "outputs": [
    {
     "data": {
      "text/plain": [
       "array([ 2.15147287,  2.10640471,  2.04690016,  1.97257712,  1.49412083,\n",
       "        1.65819163, -8.24580466,  1.98699625,  2.26229085,  2.17280589,\n",
       "        2.05798209,  1.92098962,  1.75495292,  1.94366492,  2.13486565,\n",
       "        2.09046332,  2.41994344,  2.24628627,  1.97443275, -8.24580466,\n",
       "        1.57774692,  1.93094544,  2.33726058,  2.14298837,  2.65471606,\n",
       "        2.19115937,  1.44505967, -2.88491571, -0.71761095, -8.24580466,\n",
       "        2.76712432,  2.79891738,  1.78805802,  1.40312535, -0.71390646,\n",
       "       -8.24580466,  0.22306014,  0.64028691,  2.25025926,  3.04697436,\n",
       "        1.77226784, -8.24580466, -8.24580466, -2.58314978, -0.35122685,\n",
       "       -0.20362108, -8.24580466,  4.3992828 ,  1.76450989, -8.24580466,\n",
       "       -2.33545448, -3.31204973, -8.24580466, -1.62245818, -8.24580466,\n",
       "        6.92718566,  1.76133618,  1.12098507,  0.19920717, -8.24580466,\n",
       "       -0.08664791,  3.58385419,  6.59360124, 11.75419534])"
      ]
     },
     "execution_count": 47,
     "metadata": {},
     "output_type": "execute_result"
    }
   ],
   "source": [
    "np.array(lg_pi.V) - np.array(lg_vi.V).mean()"
   ]
  },
  {
   "cell_type": "code",
   "execution_count": 48,
   "metadata": {},
   "outputs": [
    {
     "data": {
      "text/plain": [
       "True"
      ]
     },
     "execution_count": 48,
     "metadata": {},
     "output_type": "execute_result"
    }
   ],
   "source": [
    "lg_pi.policy == lg_vi.policy"
   ]
  },
  {
   "cell_type": "code",
   "execution_count": 49,
   "metadata": {},
   "outputs": [
    {
     "data": {
      "image/png": "[encoded data removed]",
      "text/plain": [
       "<matplotlib.figure.Figure at 0x1a1633d1d0>"
      ]
     },
     "metadata": {},
     "output_type": "display_data"
    }
   ],
   "source": [
    "lib.plot_policy(lg_pi.policy, lg_pi.V)"
   ]
  },
  {
   "cell_type": "code",
   "execution_count": 56,
   "metadata": {
    "collapsed": true
   },
   "outputs": [],
   "source": [
    "def compare_vi_pi(T, R, gamma):\n",
    "    vi = ValueIteration(T, R, gamma)\n",
    "    pi = PolicyIteration(T, R, gamma)\n",
    "    vi.run()\n",
    "    pi.run()\n",
    "    same = vi.policy == pi.policy\n",
    "    if same:\n",
    "        print(\"Same policy from VI and PI\")\n",
    "    else:\n",
    "        lib.plot_policy(vi.policy, vi.V)\n",
    "        plt.show()\n",
    "        lib.plot_policy(pi.policy, pi.V)\n",
    "        plt.show()"
   ]
  },
  {
   "cell_type": "code",
   "execution_count": 62,
   "metadata": {},
   "outputs": [
    {
     "data": {
      "image/png": "[encoded data removed]",
      "text/plain": [
       "<matplotlib.figure.Figure at 0x1a16c43908>"
      ]
     },
     "metadata": {},
     "output_type": "display_data"
    },
    {
     "data": {
      "image/png": "[encoded data removed]",
      "text/plain": [
       "<matplotlib.figure.Figure at 0x1a16b13f28>"
      ]
     },
     "metadata": {},
     "output_type": "display_data"
    }
   ],
   "source": [
    "compare_vi_pi(lg_T, lg_R, 0.3)"
   ]
  },
  {
   "cell_type": "code",
   "execution_count": null,
   "metadata": {
    "collapsed": true
   },
   "outputs": [],
   "source": []
  }
 ],
 "metadata": {
  "kernelspec": {
   "display_name": "Python 3",
   "language": "python",
   "name": "python3"
  },
  "language_info": {
   "codemirror_mode": {
    "name": "ipython",
    "version": 3
   },
   "file_extension": ".py",
   "mimetype": "text/x-python",
   "name": "python",
   "nbconvert_exporter": "python",
   "pygments_lexer": "ipython3",
   "version": "3.6.2"
  }
 },
 "nbformat": 4,
 "nbformat_minor": 2
}
